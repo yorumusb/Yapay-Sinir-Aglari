{
  "nbformat": 4,
  "nbformat_minor": 0,
  "metadata": {
    "colab": {
      "provenance": []
    },
    "kernelspec": {
      "name": "python3",
      "display_name": "Python 3"
    },
    "language_info": {
      "name": "python"
    }
  },
  "cells": [
    {
      "cell_type": "code",
      "source": [
        "import numpy as np\n",
        "import torch"
      ],
      "metadata": {
        "id": "yDkhIoLCGJqO"
      },
      "execution_count": 29,
      "outputs": []
    },
    {
      "cell_type": "code",
      "execution_count": 32,
      "metadata": {
        "colab": {
          "base_uri": "https://localhost:8080/"
        },
        "id": "WWixjZ5VB7iR",
        "outputId": "de98909e-288c-4aff-c4a4-072243b7157b"
      },
      "outputs": [
        {
          "output_type": "stream",
          "name": "stdout",
          "text": [
            "tensor([[0.4892],\n",
            "        [0.5566]], grad_fn=<SigmoidBackward0>)\n"
          ]
        }
      ],
      "source": [
        "import numpy as np\n",
        "import torch\n",
        "\n",
        "# PyTorch'un random sayı üreteci için manuel seed belirleme\n",
        "torch.manual_seed(1)\n",
        "\n",
        "# Tanh fonksiyonu tanımlama\n",
        "def my_tanh(x):\n",
        "    return torch.tanh(x)\n",
        "\n",
        "# Sigmoid fonksiyonu tanımlama\n",
        "def my_sigmoid(x):\n",
        "    return torch.sigmoid(x)\n",
        "\n",
        "# Girdi matrisi\n",
        "X = np.array([[1, 2, 3],\n",
        "              [4, 5, 6]])\n",
        "\n",
        "# X'i PyTorch tensorüne dönüştürme\n",
        "X_tensor = torch.tensor(X, dtype=torch.float)\n",
        "\n",
        "# Girdi boyutları\n",
        "input_size = X_tensor.shape[1]\n",
        "\n",
        "# Gizli katman boyutları\n",
        "hidden_size = 50\n",
        "\n",
        "# Çıkış boyutu\n",
        "output_size = 1\n",
        "\n",
        "# Model tanımlama\n",
        "model = torch.nn.Sequential(\n",
        "    torch.nn.Linear(input_size, hidden_size),\n",
        "    torch.nn.Tanh(),\n",
        "    torch.nn.Linear(hidden_size, output_size),\n",
        "    torch.nn.Sigmoid()\n",
        ")\n",
        "\n",
        "# Modeli test etmek için girdi verisi oluşturma\n",
        "test_input = X_tensor\n",
        "\n",
        "# İleri yayılım\n",
        "output = model(test_input)\n",
        "\n",
        "# Sonuçları yazdırma\n",
        "print(output)\n"
      ]
    },
    {
      "cell_type": "code",
      "source": [
        "import numpy as np\n",
        "import torch\n",
        "\n",
        "# PyTorch'un random sayı üreteci için manuel seed belirleme\n",
        "torch.manual_seed(190401041)\n",
        "\n",
        "# Tanh fonksiyonu tanımlama\n",
        "def my_tanh(x):\n",
        "    return torch.tanh(x)\n",
        "\n",
        "# Sigmoid fonksiyonu tanımlama\n",
        "def my_sigmoid(x):\n",
        "    return torch.sigmoid(x)\n",
        "\n",
        "# Girdi matrisi\n",
        "X = np.array([[1, 2, 3],\n",
        "              [4, 5, 6]])\n",
        "\n",
        "# X'i PyTorch tensorüne dönüştürme\n",
        "X_tensor = torch.tensor(X, dtype=torch.float)\n",
        "\n",
        "# Girdi boyutları\n",
        "input_size = X_tensor.shape[1]\n",
        "\n",
        "# Gizli katman boyutları\n",
        "hidden_size = 50\n",
        "\n",
        "# Çıkış boyutu\n",
        "output_size = 1\n",
        "\n",
        "# Model tanımlama\n",
        "model = torch.nn.Sequential(\n",
        "    torch.nn.Linear(input_size, hidden_size),\n",
        "    torch.nn.Tanh(),\n",
        "    torch.nn.Linear(hidden_size, output_size),\n",
        "    torch.nn.Sigmoid()\n",
        ")\n",
        "\n",
        "# Modeli test etmek için girdi verisi oluşturma\n",
        "test_input = X_tensor\n",
        "\n",
        "# İleri yayılım\n",
        "output = model(test_input)\n",
        "\n",
        "# Sonuçları yazdırma\n",
        "print(output)\n"
      ],
      "metadata": {
        "colab": {
          "base_uri": "https://localhost:8080/"
        },
        "id": "xBGl1OLUGWl2",
        "outputId": "71fe23e0-71b7-4dd5-de7b-8d041cead472"
      },
      "execution_count": 31,
      "outputs": [
        {
          "output_type": "stream",
          "name": "stdout",
          "text": [
            "tensor([[0.6514],\n",
            "        [0.6489]], grad_fn=<SigmoidBackward0>)\n"
          ]
        }
      ]
    },
    {
      "cell_type": "code",
      "source": [
        "X_tensor.shape[1]\n"
      ],
      "metadata": {
        "colab": {
          "base_uri": "https://localhost:8080/"
        },
        "id": "cOllOXjDCrgv",
        "outputId": "1125a5bf-93ee-4907-a76a-cd938372faf7"
      },
      "execution_count": 3,
      "outputs": [
        {
          "output_type": "execute_result",
          "data": {
            "text/plain": [
              "3"
            ]
          },
          "metadata": {},
          "execution_count": 3
        }
      ]
    }
  ]
}