{
  "nbformat": 4,
  "nbformat_minor": 0,
  "metadata": {
    "colab": {
      "provenance": []
    },
    "kernelspec": {
      "name": "python3",
      "display_name": "Python 3"
    },
    "language_info": {
      "name": "python"
    }
  },
  "cells": [
    {
      "cell_type": "code",
      "source": [
        "import numpy as np\n",
        "import torch"
      ],
      "metadata": {
        "id": "yDkhIoLCGJqO"
      },
      "execution_count": 6,
      "outputs": []
    },
    {
      "cell_type": "code",
      "execution_count": 7,
      "metadata": {
        "colab": {
          "base_uri": "https://localhost:8080/"
        },
        "id": "WWixjZ5VB7iR",
        "outputId": "894c2479-b045-4b7c-a2c4-680a0274414c"
      },
      "outputs": [
        {
          "output_type": "stream",
          "name": "stdout",
          "text": [
            "tensor([[0.4892],\n",
            "        [0.5566]], grad_fn=<SigmoidBackward0>)\n"
          ]
        }
      ],
      "source": [
        "# PyTorch'un random sayi ureteci icin manuel seed belirleme\n",
        "torch.manual_seed(1)\n",
        "\n",
        "# Tanh fonksiyonu tanimlama\n",
        "def my_tanh(x):\n",
        "    return torch.tanh(x)\n",
        "\n",
        "# Sigmoid fonksiyonu tanimlama\n",
        "def my_sigmoid(x):\n",
        "    return torch.sigmoid(x)\n",
        "\n",
        "# Girdi matrisi\n",
        "X = np.array([[1, 2, 3],\n",
        "              [4, 5, 6]])\n",
        "\n",
        "# X'i PyTorch tensorune donusturme\n",
        "X_tensor = torch.tensor(X, dtype=torch.float)\n",
        "\n",
        "# Girdi boyutları\n",
        "input_size = X_tensor.shape[1]\n",
        "\n",
        "# Gizli katman boyutları\n",
        "hidden_size = 50\n",
        "\n",
        "# Çikis boyutu\n",
        "output_size = 1\n",
        "\n",
        "# Model tanimlama\n",
        "model = torch.nn.Sequential(\n",
        "    torch.nn.Linear(input_size, hidden_size),\n",
        "    torch.nn.Tanh(),\n",
        "    torch.nn.Linear(hidden_size, output_size),\n",
        "    torch.nn.Sigmoid()\n",
        ")\n",
        "\n",
        "# Modeli test etmek icin girdi verisi olusturma\n",
        "test_input = X_tensor\n",
        "\n",
        "# Ileri yayilim\n",
        "output = model(test_input)\n",
        "\n",
        "# Sonuclari yazdirma\n",
        "print(output)\n"
      ]
    },
    {
      "cell_type": "code",
      "source": [
        "import numpy as np\n",
        "import torch\n",
        "\n",
        "# PyTorch'un random sayi ureteci icin manuel seed belirleme\n",
        "torch.manual_seed(190401041)\n",
        "\n",
        "# Tanh fonksiyonu tanimlama\n",
        "def my_tanh(x):\n",
        "    return torch.tanh(x)\n",
        "\n",
        "# Sigmoid fonksiyonu tanimlama\n",
        "def my_sigmoid(x):\n",
        "    return torch.sigmoid(x)\n",
        "\n",
        "# Girdi matrisi\n",
        "X = np.array([[1, 2, 3],\n",
        "              [4, 5, 6]])\n",
        "\n",
        "# X'i PyTorch tensorune donusturme\n",
        "X_tensor = torch.tensor(X, dtype=torch.float)\n",
        "\n",
        "# Girdi boyutlari\n",
        "input_size = X_tensor.shape[1]\n",
        "\n",
        "# Gizli katman boyutlari\n",
        "hidden_size = 50\n",
        "\n",
        "# Cıkıs boyutu\n",
        "output_size = 1\n",
        "\n",
        "# Model tanimlama\n",
        "model = torch.nn.Sequential(\n",
        "    torch.nn.Linear(input_size, hidden_size),\n",
        "    torch.nn.Tanh(),\n",
        "    torch.nn.Linear(hidden_size, output_size),\n",
        "    torch.nn.Sigmoid()\n",
        ")\n",
        "\n",
        "# Modeli test etmek icin girdi verisi olusturma\n",
        "test_input = X_tensor\n",
        "\n",
        "# Ileri yayılım\n",
        "output = model(test_input)\n",
        "\n",
        "# Sonucları yazdırma\n",
        "print(output)\n"
      ],
      "metadata": {
        "colab": {
          "base_uri": "https://localhost:8080/"
        },
        "id": "xBGl1OLUGWl2",
        "outputId": "8dd4cef7-a0f8-4d71-e75b-5486bf095f67"
      },
      "execution_count": 8,
      "outputs": [
        {
          "output_type": "stream",
          "name": "stdout",
          "text": [
            "tensor([[0.6514],\n",
            "        [0.6489]], grad_fn=<SigmoidBackward0>)\n"
          ]
        }
      ]
    },
    {
      "cell_type": "code",
      "source": [
        "X_tensor.shape[1]\n"
      ],
      "metadata": {
        "colab": {
          "base_uri": "https://localhost:8080/"
        },
        "id": "cOllOXjDCrgv",
        "outputId": "14b80fa3-3099-4cdc-c184-db1ac408b5f3"
      },
      "execution_count": 9,
      "outputs": [
        {
          "output_type": "execute_result",
          "data": {
            "text/plain": [
              "3"
            ]
          },
          "metadata": {},
          "execution_count": 9
        }
      ]
    }
  ]
}