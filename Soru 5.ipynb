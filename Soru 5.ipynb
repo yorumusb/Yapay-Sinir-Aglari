{
  "nbformat": 4,
  "nbformat_minor": 0,
  "metadata": {
    "colab": {
      "provenance": []
    },
    "kernelspec": {
      "name": "python3",
      "display_name": "Python 3"
    },
    "language_info": {
      "name": "python"
    },
    "accelerator": "GPU",
    "gpuClass": "standard"
  },
  "cells": [
    {
      "cell_type": "code",
      "source": [
        "import torch\n",
        "import torch.nn as nn\n",
        "import torch.optim as optim\n",
        "import numpy as np\n",
        "import pandas as pd"
      ],
      "metadata": {
        "id": "iKvjNcn7MbZ7"
      },
      "execution_count": 15,
      "outputs": []
    },
    {
      "cell_type": "code",
      "source": [
        "import datetime\n",
        "\n",
        "anlik_zaman1 = datetime.datetime.now()\n",
        "\n",
        "print(\"Anlık zaman1:\", anlik_zaman1)\n"
      ],
      "metadata": {
        "colab": {
          "base_uri": "https://localhost:8080/"
        },
        "id": "UxikX_Orrckh",
        "outputId": "5deb5310-2810-4d2f-e451-92a6f81e0f47"
      },
      "execution_count": 16,
      "outputs": [
        {
          "output_type": "stream",
          "name": "stdout",
          "text": [
            "Anlık zaman1: 2023-04-08 21:10:13.180064\n"
          ]
        }
      ]
    },
    {
      "cell_type": "code",
      "source": [
        "torch.manual_seed(190401041)"
      ],
      "metadata": {
        "colab": {
          "base_uri": "https://localhost:8080/"
        },
        "id": "vGyDn0zfbkS0",
        "outputId": "9e12678b-b9a9-4271-8682-d16e6d37abf7"
      },
      "execution_count": 17,
      "outputs": [
        {
          "output_type": "execute_result",
          "data": {
            "text/plain": [
              "<torch._C.Generator at 0x7fed716c9610>"
            ]
          },
          "metadata": {},
          "execution_count": 17
        }
      ]
    },
    {
      "cell_type": "code",
      "source": [
        "# Veri setini yukle\n",
        "train_data = pd.read_csv(\"/content/cure_the_princess_train.csv\")\n",
        "\n",
        "# Veri setini yukle\n",
        "test_data = pd.read_csv(\"/content/cure_the_princess_test.csv\")\n",
        "\n",
        "# Veri setini yukle\n",
        "validation_data = pd.read_csv(\"/content/cure_the_princess_validation.csv\")"
      ],
      "metadata": {
        "id": "gcVjCoiqMeJ4"
      },
      "execution_count": 18,
      "outputs": []
    },
    {
      "cell_type": "code",
      "source": [
        "from torch.utils.data import DataLoader, TensorDataset\n",
        "\n",
        "# TensorDataset kullanarak train, test ve validation setlerini olusturuyoruz\n",
        "train_inputs = train_data.drop('Cured', axis=1).values\n",
        "train_labels = train_data['Cured'].values\n",
        "train_dataset = TensorDataset(torch.tensor(train_inputs, dtype=torch.float), torch.tensor(train_labels, dtype=torch.long))\n",
        "\n",
        "val_inputs = validation_data.drop('Cured', axis=1).values\n",
        "val_labels = validation_data['Cured'].values\n",
        "val_dataset = TensorDataset(torch.tensor(val_inputs, dtype=torch.float), torch.tensor(val_labels, dtype=torch.long))\n",
        "\n",
        "test_inputs = test_data.drop('Cured', axis=1).values\n",
        "test_labels = test_data['Cured'].values\n",
        "test_dataset = TensorDataset(torch.tensor(test_inputs, dtype=torch.float), torch.tensor(test_labels, dtype=torch.long))\n",
        "\n",
        "\n",
        "# DataLoader kullanarak train, test ve validation setlerini batch'ler halinde modele veriyoruz\n",
        "train_dataloader = DataLoader(train_dataset, batch_size=16, shuffle=True)\n",
        "test_dataloader = DataLoader(test_dataset, batch_size=16)\n",
        "validation_dataloader = DataLoader(val_dataset, batch_size=16)"
      ],
      "metadata": {
        "id": "1HY0YvDKN3HM"
      },
      "execution_count": 19,
      "outputs": []
    },
    {
      "cell_type": "code",
      "execution_count": 20,
      "metadata": {
        "id": "sURUfk2bK6an"
      },
      "outputs": [],
      "source": [
        "class MLP(nn.Module):\n",
        "    def __init__(self, input_dim, hidden_dim1, hidden_dim2, output_dim):\n",
        "        super(MLP, self).__init__()\n",
        "        self.fc1 = nn.Linear(input_dim, hidden_dim1)\n",
        "        self.fc2 = nn.Linear(hidden_dim1, hidden_dim2)\n",
        "        self.fc3 = nn.Linear(hidden_dim2, output_dim)\n",
        "        self.relu = nn.ReLU()\n",
        "        self.sigmoid = nn.Sigmoid()\n",
        "        \n",
        "    def forward(self, x):\n",
        "        x = self.fc1(x)\n",
        "        x = self.relu(x)\n",
        "        x = self.fc2(x)\n",
        "        x = self.relu(x)\n",
        "        x = self.fc3(x)\n",
        "        x = self.sigmoid(x)\n",
        "        return x\n",
        "\n",
        "input_dim = len(train_data.columns) - 1 # Ozellik sayisi\n",
        "hidden_dim1 = 100\n",
        "hidden_dim2 = 50\n",
        "output_dim = 1 # Siniflandirma yapilacagi için 1 çikis noronu yeterli\n",
        "\n",
        "device = torch.device('cuda' if torch.cuda.is_available() else 'cpu')\n",
        "\n",
        "model = MLP(input_dim, hidden_dim1, hidden_dim2, output_dim).to(device)\n",
        "\n",
        "criterion = nn.BCELoss()\n",
        "optimizer = optim.SGD(model.parameters(), lr=0.01)\n",
        "\n"
      ]
    },
    {
      "cell_type": "code",
      "source": [
        "# Epoch sayısı\n",
        "num_epochs = 50\n",
        "\n",
        "# Train ve validation loss listelerini olustur\n",
        "train_losses = []\n",
        "valid_losses = []\n",
        "\n",
        "# Egitim dongusu\n",
        "for epoch in range(num_epochs):\n",
        "    # Egitim modunda ilerle\n",
        "    model.train()\n",
        "    correct = 0\n",
        "    total = 0\n",
        "\n",
        "    # Batch loss ve dogruluk degerlerini sifirla\n",
        "    train_loss = 0.0\n",
        "    train_acc = 0.0\n",
        "\n",
        "    # Batch sayisini belirle\n",
        "    num_batches = len(train_dataloader)\n",
        "\n",
        "    # Tum batchler uzerinde ilerle\n",
        "    for batch_num, (inputs, labels) in enumerate(train_dataloader):\n",
        "        # Girdileri ve hedefleri tensorlere yukle\n",
        "        inputs = inputs.to(device)\n",
        "        labels = labels.to(device)\n",
        "\n",
        "        # Gradientleri sıfırla\n",
        "        optimizer.zero_grad()\n",
        "\n",
        "        # Ileri gecis yap\n",
        "        outputs = model(inputs)\n",
        "\n",
        "        # Loss hesapla ve backward pass yap\n",
        "        loss = criterion(outputs.squeeze(), labels.float())\n",
        "        loss.backward()\n",
        "\n",
        "        # Gradientleri guncelle\n",
        "        optimizer.step()\n",
        "\n",
        "        # Batch loss ve dogruluk degerlerini hesapla\n",
        "        train_loss += loss.item()\n",
        "        train_acc += (torch.round(outputs.squeeze()) == labels.float()).sum().item()\n",
        "\n",
        "    # Batch loss ve dogruluk degerlerini ortala\n",
        "    train_loss /= len(train_dataset)\n",
        "    train_acc /= len(train_dataset)\n",
        "\n",
        "    # Modeli degerlendirme moduna al\n",
        "    model.eval()\n",
        "\n",
        "    # Validation loss ve dogruluk degerlerini sifirla\n",
        "    valid_loss = 0.0\n",
        "    valid_acc = 0.0\n",
        "\n",
        "    # Batch sayisini belirle\n",
        "    num_batches = len(validation_dataloader)\n",
        "\n",
        "    # Doğrulama verileri için döngü\n",
        "    for inputs, labels in validation_dataloader:\n",
        "        # Girdileri ve hedefleri tensorlere yukle\n",
        "        inputs = inputs.to(device)\n",
        "        labels = labels.to(device)\n",
        "\n",
        "        # Forward pass yap\n",
        "        outputs = model(inputs)\n",
        "\n",
        "        # Loss hesapla\n",
        "        loss = criterion(outputs.squeeze(), labels.float())\n",
        "\n",
        "        # Batch loss ve dogruluk degerlerini hesapla\n",
        "        valid_loss += loss.item()\n",
        "        valid_acc += (torch.round(outputs.squeeze()) == labels.float()).sum().item()\n",
        "\n",
        "    # Batch loss ve dogruluk degerlerini ortala\n",
        "    valid_loss /= len(validation_dataloader.dataset)\n",
        "    valid_acc /= len(validation_dataloader.dataset)\n",
        "\n",
        "\n",
        "    # Train ve validation loss degerlerini listelere ekle\n",
        "    train_losses.append(train_loss)\n",
        "    valid_losses.append(valid_loss)\n",
        "\n",
        "    # Her epoch sonunda sonucları yazdir\n",
        "    print(f\"Epoch: {epoch+1}/{num_epochs}, Train Loss: {train_loss:.4f}, Validation Loss: {valid_loss:.4f}, Train Accuracy: {train_acc:.4f}, Validation Accuracy: {valid_acc:.4f}\")\n"
      ],
      "metadata": {
        "colab": {
          "base_uri": "https://localhost:8080/"
        },
        "id": "Em5Z71MyZu0u",
        "outputId": "7f634e70-9875-4e95-d78e-868038d81b26"
      },
      "execution_count": 21,
      "outputs": [
        {
          "output_type": "stream",
          "name": "stdout",
          "text": [
            "Epoch: 1/50, Train Loss: 0.0402, Validation Loss: 0.0433, Train Accuracy: 0.6773, Validation Accuracy: 0.5796\n",
            "Epoch: 2/50, Train Loss: 0.0255, Validation Loss: 0.0220, Train Accuracy: 0.8283, Validation Accuracy: 0.8376\n",
            "Epoch: 3/50, Train Loss: 0.0203, Validation Loss: 0.0168, Train Accuracy: 0.8722, Validation Accuracy: 0.9140\n",
            "Epoch: 4/50, Train Loss: 0.0178, Validation Loss: 0.0170, Train Accuracy: 0.8914, Validation Accuracy: 0.8981\n",
            "Epoch: 5/50, Train Loss: 0.0168, Validation Loss: 0.0401, Train Accuracy: 0.8874, Validation Accuracy: 0.6911\n",
            "Epoch: 6/50, Train Loss: 0.0162, Validation Loss: 0.0133, Train Accuracy: 0.8978, Validation Accuracy: 0.9013\n",
            "Epoch: 7/50, Train Loss: 0.0137, Validation Loss: 0.0120, Train Accuracy: 0.9241, Validation Accuracy: 0.9490\n",
            "Epoch: 8/50, Train Loss: 0.0124, Validation Loss: 0.0229, Train Accuracy: 0.9305, Validation Accuracy: 0.8471\n",
            "Epoch: 9/50, Train Loss: 0.0119, Validation Loss: 0.0180, Train Accuracy: 0.9369, Validation Accuracy: 0.8790\n",
            "Epoch: 10/50, Train Loss: 0.0113, Validation Loss: 0.0161, Train Accuracy: 0.9361, Validation Accuracy: 0.8854\n",
            "Epoch: 11/50, Train Loss: 0.0110, Validation Loss: 0.0142, Train Accuracy: 0.9401, Validation Accuracy: 0.9013\n",
            "Epoch: 12/50, Train Loss: 0.0105, Validation Loss: 0.0120, Train Accuracy: 0.9465, Validation Accuracy: 0.9395\n",
            "Epoch: 13/50, Train Loss: 0.0095, Validation Loss: 0.0162, Train Accuracy: 0.9473, Validation Accuracy: 0.8949\n",
            "Epoch: 14/50, Train Loss: 0.0092, Validation Loss: 0.0099, Train Accuracy: 0.9513, Validation Accuracy: 0.9490\n",
            "Epoch: 15/50, Train Loss: 0.0092, Validation Loss: 0.0096, Train Accuracy: 0.9497, Validation Accuracy: 0.9586\n",
            "Epoch: 16/50, Train Loss: 0.0082, Validation Loss: 0.0112, Train Accuracy: 0.9553, Validation Accuracy: 0.9331\n",
            "Epoch: 17/50, Train Loss: 0.0078, Validation Loss: 0.0105, Train Accuracy: 0.9649, Validation Accuracy: 0.9363\n",
            "Epoch: 18/50, Train Loss: 0.0079, Validation Loss: 0.0172, Train Accuracy: 0.9569, Validation Accuracy: 0.8949\n",
            "Epoch: 19/50, Train Loss: 0.0071, Validation Loss: 0.0112, Train Accuracy: 0.9617, Validation Accuracy: 0.9299\n",
            "Epoch: 20/50, Train Loss: 0.0074, Validation Loss: 0.0097, Train Accuracy: 0.9577, Validation Accuracy: 0.9427\n",
            "Epoch: 21/50, Train Loss: 0.0070, Validation Loss: 0.0087, Train Accuracy: 0.9641, Validation Accuracy: 0.9554\n",
            "Epoch: 22/50, Train Loss: 0.0068, Validation Loss: 0.0129, Train Accuracy: 0.9657, Validation Accuracy: 0.9204\n",
            "Epoch: 23/50, Train Loss: 0.0063, Validation Loss: 0.0092, Train Accuracy: 0.9704, Validation Accuracy: 0.9554\n",
            "Epoch: 24/50, Train Loss: 0.0070, Validation Loss: 0.0896, Train Accuracy: 0.9665, Validation Accuracy: 0.6783\n",
            "Epoch: 25/50, Train Loss: 0.0080, Validation Loss: 0.0127, Train Accuracy: 0.9553, Validation Accuracy: 0.9331\n",
            "Epoch: 26/50, Train Loss: 0.0061, Validation Loss: 0.0130, Train Accuracy: 0.9649, Validation Accuracy: 0.9236\n",
            "Epoch: 27/50, Train Loss: 0.0060, Validation Loss: 0.0093, Train Accuracy: 0.9657, Validation Accuracy: 0.9490\n",
            "Epoch: 28/50, Train Loss: 0.0054, Validation Loss: 0.0097, Train Accuracy: 0.9768, Validation Accuracy: 0.9459\n",
            "Epoch: 29/50, Train Loss: 0.0055, Validation Loss: 0.0155, Train Accuracy: 0.9736, Validation Accuracy: 0.9045\n",
            "Epoch: 30/50, Train Loss: 0.0053, Validation Loss: 0.0095, Train Accuracy: 0.9712, Validation Accuracy: 0.9459\n",
            "Epoch: 31/50, Train Loss: 0.0049, Validation Loss: 0.0141, Train Accuracy: 0.9744, Validation Accuracy: 0.9108\n",
            "Epoch: 32/50, Train Loss: 0.0048, Validation Loss: 0.0097, Train Accuracy: 0.9752, Validation Accuracy: 0.9522\n",
            "Epoch: 33/50, Train Loss: 0.0047, Validation Loss: 0.0138, Train Accuracy: 0.9752, Validation Accuracy: 0.9204\n",
            "Epoch: 34/50, Train Loss: 0.0047, Validation Loss: 0.0171, Train Accuracy: 0.9768, Validation Accuracy: 0.9140\n",
            "Epoch: 35/50, Train Loss: 0.0047, Validation Loss: 0.0105, Train Accuracy: 0.9736, Validation Accuracy: 0.9395\n",
            "Epoch: 36/50, Train Loss: 0.0043, Validation Loss: 0.0101, Train Accuracy: 0.9776, Validation Accuracy: 0.9395\n",
            "Epoch: 37/50, Train Loss: 0.0042, Validation Loss: 0.0102, Train Accuracy: 0.9728, Validation Accuracy: 0.9490\n",
            "Epoch: 38/50, Train Loss: 0.0043, Validation Loss: 0.0111, Train Accuracy: 0.9760, Validation Accuracy: 0.9490\n",
            "Epoch: 39/50, Train Loss: 0.0042, Validation Loss: 0.0141, Train Accuracy: 0.9744, Validation Accuracy: 0.9363\n",
            "Epoch: 40/50, Train Loss: 0.0041, Validation Loss: 0.0103, Train Accuracy: 0.9768, Validation Accuracy: 0.9522\n",
            "Epoch: 41/50, Train Loss: 0.0040, Validation Loss: 0.0118, Train Accuracy: 0.9760, Validation Accuracy: 0.9490\n",
            "Epoch: 42/50, Train Loss: 0.0036, Validation Loss: 0.0101, Train Accuracy: 0.9808, Validation Accuracy: 0.9554\n",
            "Epoch: 43/50, Train Loss: 0.0037, Validation Loss: 0.0101, Train Accuracy: 0.9808, Validation Accuracy: 0.9522\n",
            "Epoch: 44/50, Train Loss: 0.0041, Validation Loss: 0.0228, Train Accuracy: 0.9784, Validation Accuracy: 0.8790\n",
            "Epoch: 45/50, Train Loss: 0.0038, Validation Loss: 0.0139, Train Accuracy: 0.9808, Validation Accuracy: 0.9204\n",
            "Epoch: 46/50, Train Loss: 0.0034, Validation Loss: 0.0115, Train Accuracy: 0.9832, Validation Accuracy: 0.9490\n",
            "Epoch: 47/50, Train Loss: 0.0032, Validation Loss: 0.0180, Train Accuracy: 0.9840, Validation Accuracy: 0.9108\n",
            "Epoch: 48/50, Train Loss: 0.0035, Validation Loss: 0.0141, Train Accuracy: 0.9824, Validation Accuracy: 0.9427\n",
            "Epoch: 49/50, Train Loss: 0.0032, Validation Loss: 0.0113, Train Accuracy: 0.9848, Validation Accuracy: 0.9554\n",
            "Epoch: 50/50, Train Loss: 0.0028, Validation Loss: 0.0113, Train Accuracy: 0.9864, Validation Accuracy: 0.9554\n"
          ]
        }
      ]
    },
    {
      "cell_type": "code",
      "source": [
        "from sklearn.metrics import accuracy_score, precision_score, recall_score, f1_score\n",
        "\n",
        "# En iyi modeli kullanarak test seti üzerinde tahmin yapın\n",
        "model.eval()\n",
        "y_true = []\n",
        "y_pred = []\n",
        "\n",
        "for inputs, labels in test_dataloader:\n",
        "    inputs = inputs.to(device)\n",
        "    labels = labels.to(device)\n",
        "    outputs = model(inputs)\n",
        "    predictions = torch.round(outputs.squeeze())\n",
        "    y_true += labels.tolist()\n",
        "    y_pred += predictions.tolist()\n",
        "\n",
        "# Test seti üzerinde ölçüt değerlerini hesaplayın\n",
        "accuracy = accuracy_score(y_true, y_pred)\n",
        "precision = precision_score(y_true, y_pred)\n",
        "recall = recall_score(y_true, y_pred)\n",
        "f1 = f1_score(y_true, y_pred)\n",
        "\n",
        "# Sonuçları yazdırın\n",
        "print(f\"Test Accuracy: {accuracy:.4f}\")\n",
        "print(f\"Test Precision: {precision:.4f}\")\n",
        "print(f\"Test Recall: {recall:.4f}\")\n",
        "print(f\"Test F1 Score: {f1:.4f}\")\n"
      ],
      "metadata": {
        "colab": {
          "base_uri": "https://localhost:8080/"
        },
        "id": "MGXt_qXsrAs9",
        "outputId": "ac5d18fb-c2dd-4b58-9409-f3525cbd142f"
      },
      "execution_count": 22,
      "outputs": [
        {
          "output_type": "stream",
          "name": "stdout",
          "text": [
            "Test Accuracy: 0.9521\n",
            "Test Precision: 0.9730\n",
            "Test Recall: 0.9304\n",
            "Test F1 Score: 0.9513\n"
          ]
        }
      ]
    },
    {
      "cell_type": "code",
      "source": [
        "import matplotlib.pyplot as plt\n",
        "\n",
        "epochs = range(1, len(train_losses) + 1)\n",
        "\n",
        "plt.plot(epochs, train_losses, 'b', label='Training loss')\n",
        "plt.plot(epochs, valid_losses, 'r', label='Validation loss')\n",
        "plt.title('Training and Validation Loss')\n",
        "plt.xlabel('Epochs')\n",
        "plt.ylabel('Loss')\n",
        "plt.legend()\n",
        "plt.show()\n"
      ],
      "metadata": {
        "colab": {
          "base_uri": "https://localhost:8080/",
          "height": 472
        },
        "id": "GXc33sdSnZHk",
        "outputId": "4aecabbe-3b01-4e30-bf75-12595817af36"
      },
      "execution_count": 23,
      "outputs": [
        {
          "output_type": "display_data",
          "data": {
            "text/plain": [
              "<Figure size 640x480 with 1 Axes>"
            ],
            "image/png": "[encoded data removed]"
          },
          "metadata": {}
        }
      ]
    },
    {
      "cell_type": "code",
      "source": [
        "anlik_zaman2 = datetime.datetime.now()\n",
        "\n",
        "print(\"Geçen Süre:\", anlik_zaman2 - anlik_zaman1)"
      ],
      "metadata": {
        "colab": {
          "base_uri": "https://localhost:8080/"
        },
        "id": "Uf6f02U9rtNW",
        "outputId": "e7c0770a-8c4f-4a1b-88fc-733f26793a0f"
      },
      "execution_count": 24,
      "outputs": [
        {
          "output_type": "stream",
          "name": "stdout",
          "text": [
            "Geçen Süre: 0:00:11.142654\n"
          ]
        }
      ]
    }
  ]
}
